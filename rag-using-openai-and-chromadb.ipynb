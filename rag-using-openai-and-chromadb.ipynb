{
 "metadata": {
  "kernelspec": {
   "language": "python",
   "display_name": "Python 3",
   "name": "python3"
  },
  "language_info": {
   "name": "python",
   "version": "3.10.12",
   "mimetype": "text/x-python",
   "codemirror_mode": {
    "name": "ipython",
    "version": 3
   },
   "pygments_lexer": "ipython3",
   "nbconvert_exporter": "python",
   "file_extension": ".py"
  },
  "kaggle": {
   "accelerator": "gpu",
   "dataSources": [
    {
     "sourceId": 4966565,
     "sourceType": "datasetVersion",
     "datasetId": 2880535
    },
    {
     "sourceId": 7239614,
     "sourceType": "datasetVersion",
     "datasetId": 4192950
    },
    {
     "sourceId": 4298,
     "sourceType": "modelInstanceVersion",
     "modelInstanceId": 3093
    }
   ],
   "dockerImageVersionId": 30559,
   "isInternetEnabled": true,
   "language": "python",
   "sourceType": "notebook",
   "isGpuEnabled": true
  }
 },
 "nbformat_minor": 4,
 "nbformat": 4,
 "cells": [
  {
   "cell_type": "code",
   "execution_count": null,
   "outputs": [],
   "source": [],
   "metadata": {
    "collapsed": false
   }
  },
  {
   "cell_type": "code",
   "source": [
    "from torch import cuda, bfloat16\n",
    "import torch\n",
    "import transformers\n",
    "from transformers import AutoTokenizer\n",
    "from time import time\n",
    "import chromadb\n",
    "#from chromadb.config import Settings\n",
    "import wget\n",
    "import pandas as pd\n",
    "from chromadb.utils.embedding_functions import OpenAIEmbeddingFunction\n",
    "import os\n",
    "import wget\n",
    "from ast import literal_eval\n",
    "from rag import RAGCollection\n",
    "\n",
    "# Test that your OpenAI API key is correctly set as an environment variable\n",
    "# Note. if you run this notebook locally, you will need to reload your terminal and the notebook for the env variables to be live.\n",
    "\n",
    "with open('secrets.txt', 'r') as file:\n",
    "    os.environ[\"OPENAI_API_KEY\"] = file.read().strip()\n",
    "# Note. alternatively you can set a temporary env variable like this:\n",
    "import os\n",
    "import openai\n",
    "\n",
    "\n",
    "EMBEDDING_MODEL = \"text-embedding-3-small\"\n"
   ],
   "metadata": {
    "_kg_hide-input": true,
    "execution": {
     "iopub.status.busy": "2023-12-19T15:13:14.528082Z",
     "iopub.execute_input": "2023-12-19T15:13:14.528957Z",
     "iopub.status.idle": "2023-12-19T15:13:21.393724Z",
     "shell.execute_reply.started": "2023-12-19T15:13:14.528919Z",
     "shell.execute_reply": "2023-12-19T15:13:21.392929Z"
    },
    "trusted": true,
    "ExecuteTime": {
     "end_time": "2024-02-27T13:44:41.000993Z",
     "start_time": "2024-02-27T13:44:37.608018Z"
    }
   },
   "execution_count": 1,
   "outputs": []
  },
  {
   "cell_type": "code",
   "execution_count": 3,
   "outputs": [],
   "source": [
    "# # Ignore unclosed SSL socket warnings - optional in case you get these errors\n",
    "# import warnings\n",
    "#\n",
    "# warnings.filterwarnings(action=\"ignore\", message=\"unclosed\", category=ResourceWarning)\n",
    "# warnings.filterwarnings(\"ignore\", category=DeprecationWarning)\n",
    "\n",
    "# embeddings_url = 'https://cdn.openai.com/API/examples/data/vector_database_wikipedia_articles_embedded.zip'\n",
    "# \n",
    "# # The file is ~700 MB so this will take some time\n",
    "# wget.download(embeddings_url)\n",
    "\n",
    "# import zipfile\n",
    "# with zipfile.ZipFile(\"vector_database_wikipedia_articles_embedded.zip\",\"r\") as zip_ref:\n",
    "#     zip_ref.extractall(\"data\")\n",
    "\n",
    "article_df = pd.read_csv('data/vector_database_wikipedia_articles_embedded.csv')\n",
    "\n",
    "\n"
   ],
   "metadata": {
    "collapsed": false,
    "ExecuteTime": {
     "end_time": "2024-02-27T13:52:53.129416Z",
     "start_time": "2024-02-27T13:52:35.465046Z"
    }
   }
  },
  {
   "cell_type": "code",
   "execution_count": 4,
   "outputs": [
    {
     "name": "stdout",
     "output_type": "stream",
     "text": [
      "<class 'pandas.core.frame.DataFrame'>\n",
      "RangeIndex: 25000 entries, 0 to 24999\n",
      "Data columns (total 7 columns):\n",
      " #   Column          Non-Null Count  Dtype \n",
      "---  ------          --------------  ----- \n",
      " 0   id              25000 non-null  int64 \n",
      " 1   url             25000 non-null  object\n",
      " 2   title           25000 non-null  object\n",
      " 3   text            25000 non-null  object\n",
      " 4   title_vector    25000 non-null  object\n",
      " 5   content_vector  25000 non-null  object\n",
      " 6   vector_id       25000 non-null  object\n",
      "dtypes: int64(1), object(6)\n",
      "memory usage: 1.3+ MB\n"
     ]
    }
   ],
   "source": [
    "#Read vectors from strings back into a list\n",
    "article_df['title_vector'] = article_df.title_vector.apply(literal_eval)\n",
    "article_df['content_vector'] = article_df.content_vector.apply(literal_eval)\n",
    "\n",
    "# Set vector_id to be a string\n",
    "article_df['vector_id'] = article_df['vector_id'].apply(str)\n",
    "\n",
    "article_df.info(show_counts=True)\n",
    "\n",
    "chroma_client = chromadb.EphemeralClient() # Equivalent to chromadb.Client(), ephemeral.\n",
    "# Uncomment for persistent client\n",
    "# chroma_client = chromadb.PersistentClient()"
   ],
   "metadata": {
    "collapsed": false,
    "ExecuteTime": {
     "end_time": "2024-02-27T14:02:02.824540Z",
     "start_time": "2024-02-27T13:54:43.920508Z"
    }
   }
  },
  {
   "cell_type": "code",
   "execution_count": null,
   "outputs": [],
   "source": [],
   "metadata": {
    "collapsed": false
   }
  },
  {
   "cell_type": "code",
   "execution_count": 5,
   "outputs": [
    {
     "name": "stdout",
     "output_type": "stream",
     "text": [
      "OPENAI_API_KEY is ready\n"
     ]
    }
   ],
   "source": [
    "\n",
    "if os.getenv(\"OPENAI_API_KEY\") is not None:\n",
    "    openai.api_key = os.getenv(\"OPENAI_API_KEY\")\n",
    "    print (\"OPENAI_API_KEY is ready\")\n",
    "else:\n",
    "    print (\"OPENAI_API_KEY environment variable not found\")\n",
    "\n",
    "\n",
    "embedding_function = OpenAIEmbeddingFunction(api_key=os.environ.get('OPENAI_API_KEY'), model_name=EMBEDDING_MODEL)\n"
   ],
   "metadata": {
    "collapsed": false,
    "ExecuteTime": {
     "end_time": "2024-02-27T14:03:19.021627Z",
     "start_time": "2024-02-27T14:03:18.993079Z"
    }
   }
  },
  {
   "cell_type": "code",
   "execution_count": 7,
   "outputs": [
    {
     "ename": "UniqueConstraintError",
     "evalue": "Collection wikipedia_content already exists",
     "output_type": "error",
     "traceback": [
      "\u001B[0;31m---------------------------------------------------------------------------\u001B[0m",
      "\u001B[0;31mUniqueConstraintError\u001B[0m                     Traceback (most recent call last)",
      "Cell \u001B[0;32mIn[7], line 1\u001B[0m\n\u001B[0;32m----> 1\u001B[0m wikipedia_content_collection \u001B[38;5;241m=\u001B[39m \u001B[43mchroma_client\u001B[49m\u001B[38;5;241;43m.\u001B[39;49m\u001B[43mcreate_collection\u001B[49m\u001B[43m(\u001B[49m\u001B[43mname\u001B[49m\u001B[38;5;241;43m=\u001B[39;49m\u001B[38;5;124;43m'\u001B[39;49m\u001B[38;5;124;43mwikipedia_content\u001B[39;49m\u001B[38;5;124;43m'\u001B[39;49m\u001B[43m,\u001B[49m\u001B[43m \u001B[49m\u001B[43membedding_function\u001B[49m\u001B[38;5;241;43m=\u001B[39;49m\u001B[43membedding_function\u001B[49m\u001B[43m)\u001B[49m\n\u001B[1;32m      2\u001B[0m wikipedia_title_collection \u001B[38;5;241m=\u001B[39m chroma_client\u001B[38;5;241m.\u001B[39mcreate_collection(name\u001B[38;5;241m=\u001B[39m\u001B[38;5;124m'\u001B[39m\u001B[38;5;124mwikipedia_titles\u001B[39m\u001B[38;5;124m'\u001B[39m, embedding_function\u001B[38;5;241m=\u001B[39membedding_function)\n\u001B[1;32m      5\u001B[0m \u001B[38;5;66;03m# Add the content vectors\u001B[39;00m\n",
      "File \u001B[0;32m~/Documents/VL/gptest/venv/lib/python3.11/site-packages/chromadb/api/client.py:198\u001B[0m, in \u001B[0;36mClient.create_collection\u001B[0;34m(self, name, metadata, embedding_function, data_loader, get_or_create)\u001B[0m\n\u001B[1;32m    187\u001B[0m \u001B[38;5;129m@override\u001B[39m\n\u001B[1;32m    188\u001B[0m \u001B[38;5;28;01mdef\u001B[39;00m \u001B[38;5;21mcreate_collection\u001B[39m(\n\u001B[1;32m    189\u001B[0m     \u001B[38;5;28mself\u001B[39m,\n\u001B[0;32m   (...)\u001B[0m\n\u001B[1;32m    196\u001B[0m     get_or_create: \u001B[38;5;28mbool\u001B[39m \u001B[38;5;241m=\u001B[39m \u001B[38;5;28;01mFalse\u001B[39;00m,\n\u001B[1;32m    197\u001B[0m ) \u001B[38;5;241m-\u001B[39m\u001B[38;5;241m>\u001B[39m Collection:\n\u001B[0;32m--> 198\u001B[0m     \u001B[38;5;28;01mreturn\u001B[39;00m \u001B[38;5;28;43mself\u001B[39;49m\u001B[38;5;241;43m.\u001B[39;49m\u001B[43m_server\u001B[49m\u001B[38;5;241;43m.\u001B[39;49m\u001B[43mcreate_collection\u001B[49m\u001B[43m(\u001B[49m\n\u001B[1;32m    199\u001B[0m \u001B[43m        \u001B[49m\u001B[43mname\u001B[49m\u001B[38;5;241;43m=\u001B[39;49m\u001B[43mname\u001B[49m\u001B[43m,\u001B[49m\n\u001B[1;32m    200\u001B[0m \u001B[43m        \u001B[49m\u001B[43mmetadata\u001B[49m\u001B[38;5;241;43m=\u001B[39;49m\u001B[43mmetadata\u001B[49m\u001B[43m,\u001B[49m\n\u001B[1;32m    201\u001B[0m \u001B[43m        \u001B[49m\u001B[43membedding_function\u001B[49m\u001B[38;5;241;43m=\u001B[39;49m\u001B[43membedding_function\u001B[49m\u001B[43m,\u001B[49m\n\u001B[1;32m    202\u001B[0m \u001B[43m        \u001B[49m\u001B[43mdata_loader\u001B[49m\u001B[38;5;241;43m=\u001B[39;49m\u001B[43mdata_loader\u001B[49m\u001B[43m,\u001B[49m\n\u001B[1;32m    203\u001B[0m \u001B[43m        \u001B[49m\u001B[43mtenant\u001B[49m\u001B[38;5;241;43m=\u001B[39;49m\u001B[38;5;28;43mself\u001B[39;49m\u001B[38;5;241;43m.\u001B[39;49m\u001B[43mtenant\u001B[49m\u001B[43m,\u001B[49m\n\u001B[1;32m    204\u001B[0m \u001B[43m        \u001B[49m\u001B[43mdatabase\u001B[49m\u001B[38;5;241;43m=\u001B[39;49m\u001B[38;5;28;43mself\u001B[39;49m\u001B[38;5;241;43m.\u001B[39;49m\u001B[43mdatabase\u001B[49m\u001B[43m,\u001B[49m\n\u001B[1;32m    205\u001B[0m \u001B[43m        \u001B[49m\u001B[43mget_or_create\u001B[49m\u001B[38;5;241;43m=\u001B[39;49m\u001B[43mget_or_create\u001B[49m\u001B[43m,\u001B[49m\n\u001B[1;32m    206\u001B[0m \u001B[43m    \u001B[49m\u001B[43m)\u001B[49m\n",
      "File \u001B[0;32m~/Documents/VL/gptest/venv/lib/python3.11/site-packages/chromadb/telemetry/opentelemetry/__init__.py:127\u001B[0m, in \u001B[0;36mtrace_method.<locals>.decorator.<locals>.wrapper\u001B[0;34m(*args, **kwargs)\u001B[0m\n\u001B[1;32m    125\u001B[0m \u001B[38;5;28;01mglobal\u001B[39;00m tracer, granularity\n\u001B[1;32m    126\u001B[0m \u001B[38;5;28;01mif\u001B[39;00m trace_granularity \u001B[38;5;241m<\u001B[39m granularity:\n\u001B[0;32m--> 127\u001B[0m     \u001B[38;5;28;01mreturn\u001B[39;00m \u001B[43mf\u001B[49m\u001B[43m(\u001B[49m\u001B[38;5;241;43m*\u001B[39;49m\u001B[43margs\u001B[49m\u001B[43m,\u001B[49m\u001B[43m \u001B[49m\u001B[38;5;241;43m*\u001B[39;49m\u001B[38;5;241;43m*\u001B[39;49m\u001B[43mkwargs\u001B[49m\u001B[43m)\u001B[49m\n\u001B[1;32m    128\u001B[0m \u001B[38;5;28;01mif\u001B[39;00m \u001B[38;5;129;01mnot\u001B[39;00m tracer:\n\u001B[1;32m    129\u001B[0m     \u001B[38;5;28;01mreturn\u001B[39;00m f(\u001B[38;5;241m*\u001B[39margs, \u001B[38;5;241m*\u001B[39m\u001B[38;5;241m*\u001B[39mkwargs)\n",
      "File \u001B[0;32m~/Documents/VL/gptest/venv/lib/python3.11/site-packages/chromadb/api/segment.py:167\u001B[0m, in \u001B[0;36mSegmentAPI.create_collection\u001B[0;34m(self, name, metadata, embedding_function, data_loader, get_or_create, tenant, database)\u001B[0m\n\u001B[1;32m    163\u001B[0m check_index_name(name)\n\u001B[1;32m    165\u001B[0m \u001B[38;5;28mid\u001B[39m \u001B[38;5;241m=\u001B[39m uuid4()\n\u001B[0;32m--> 167\u001B[0m coll, created \u001B[38;5;241m=\u001B[39m \u001B[38;5;28;43mself\u001B[39;49m\u001B[38;5;241;43m.\u001B[39;49m\u001B[43m_sysdb\u001B[49m\u001B[38;5;241;43m.\u001B[39;49m\u001B[43mcreate_collection\u001B[49m\u001B[43m(\u001B[49m\n\u001B[1;32m    168\u001B[0m \u001B[43m    \u001B[49m\u001B[38;5;28;43mid\u001B[39;49m\u001B[38;5;241;43m=\u001B[39;49m\u001B[38;5;28;43mid\u001B[39;49m\u001B[43m,\u001B[49m\n\u001B[1;32m    169\u001B[0m \u001B[43m    \u001B[49m\u001B[43mname\u001B[49m\u001B[38;5;241;43m=\u001B[39;49m\u001B[43mname\u001B[49m\u001B[43m,\u001B[49m\n\u001B[1;32m    170\u001B[0m \u001B[43m    \u001B[49m\u001B[43mmetadata\u001B[49m\u001B[38;5;241;43m=\u001B[39;49m\u001B[43mmetadata\u001B[49m\u001B[43m,\u001B[49m\n\u001B[1;32m    171\u001B[0m \u001B[43m    \u001B[49m\u001B[43mdimension\u001B[49m\u001B[38;5;241;43m=\u001B[39;49m\u001B[38;5;28;43;01mNone\u001B[39;49;00m\u001B[43m,\u001B[49m\n\u001B[1;32m    172\u001B[0m \u001B[43m    \u001B[49m\u001B[43mget_or_create\u001B[49m\u001B[38;5;241;43m=\u001B[39;49m\u001B[43mget_or_create\u001B[49m\u001B[43m,\u001B[49m\n\u001B[1;32m    173\u001B[0m \u001B[43m    \u001B[49m\u001B[43mtenant\u001B[49m\u001B[38;5;241;43m=\u001B[39;49m\u001B[43mtenant\u001B[49m\u001B[43m,\u001B[49m\n\u001B[1;32m    174\u001B[0m \u001B[43m    \u001B[49m\u001B[43mdatabase\u001B[49m\u001B[38;5;241;43m=\u001B[39;49m\u001B[43mdatabase\u001B[49m\u001B[43m,\u001B[49m\n\u001B[1;32m    175\u001B[0m \u001B[43m\u001B[49m\u001B[43m)\u001B[49m\n\u001B[1;32m    177\u001B[0m \u001B[38;5;28;01mif\u001B[39;00m created:\n\u001B[1;32m    178\u001B[0m     segments \u001B[38;5;241m=\u001B[39m \u001B[38;5;28mself\u001B[39m\u001B[38;5;241m.\u001B[39m_manager\u001B[38;5;241m.\u001B[39mcreate_segments(coll)\n",
      "File \u001B[0;32m~/Documents/VL/gptest/venv/lib/python3.11/site-packages/chromadb/telemetry/opentelemetry/__init__.py:127\u001B[0m, in \u001B[0;36mtrace_method.<locals>.decorator.<locals>.wrapper\u001B[0;34m(*args, **kwargs)\u001B[0m\n\u001B[1;32m    125\u001B[0m \u001B[38;5;28;01mglobal\u001B[39;00m tracer, granularity\n\u001B[1;32m    126\u001B[0m \u001B[38;5;28;01mif\u001B[39;00m trace_granularity \u001B[38;5;241m<\u001B[39m granularity:\n\u001B[0;32m--> 127\u001B[0m     \u001B[38;5;28;01mreturn\u001B[39;00m \u001B[43mf\u001B[49m\u001B[43m(\u001B[49m\u001B[38;5;241;43m*\u001B[39;49m\u001B[43margs\u001B[49m\u001B[43m,\u001B[49m\u001B[43m \u001B[49m\u001B[38;5;241;43m*\u001B[39;49m\u001B[38;5;241;43m*\u001B[39;49m\u001B[43mkwargs\u001B[49m\u001B[43m)\u001B[49m\n\u001B[1;32m    128\u001B[0m \u001B[38;5;28;01mif\u001B[39;00m \u001B[38;5;129;01mnot\u001B[39;00m tracer:\n\u001B[1;32m    129\u001B[0m     \u001B[38;5;28;01mreturn\u001B[39;00m f(\u001B[38;5;241m*\u001B[39margs, \u001B[38;5;241m*\u001B[39m\u001B[38;5;241m*\u001B[39mkwargs)\n",
      "File \u001B[0;32m~/Documents/VL/gptest/venv/lib/python3.11/site-packages/chromadb/db/mixins/sysdb.py:225\u001B[0m, in \u001B[0;36mSqlSysDB.create_collection\u001B[0;34m(self, id, name, metadata, dimension, get_or_create, tenant, database)\u001B[0m\n\u001B[1;32m    218\u001B[0m         \u001B[38;5;28;01mreturn\u001B[39;00m (\n\u001B[1;32m    219\u001B[0m             \u001B[38;5;28mself\u001B[39m\u001B[38;5;241m.\u001B[39mget_collections(\n\u001B[1;32m    220\u001B[0m                 \u001B[38;5;28mid\u001B[39m\u001B[38;5;241m=\u001B[39mcollection[\u001B[38;5;124m\"\u001B[39m\u001B[38;5;124mid\u001B[39m\u001B[38;5;124m\"\u001B[39m], tenant\u001B[38;5;241m=\u001B[39mtenant, database\u001B[38;5;241m=\u001B[39mdatabase\n\u001B[1;32m    221\u001B[0m             )[\u001B[38;5;241m0\u001B[39m],\n\u001B[1;32m    222\u001B[0m             \u001B[38;5;28;01mFalse\u001B[39;00m,\n\u001B[1;32m    223\u001B[0m         )\n\u001B[1;32m    224\u001B[0m     \u001B[38;5;28;01melse\u001B[39;00m:\n\u001B[0;32m--> 225\u001B[0m         \u001B[38;5;28;01mraise\u001B[39;00m UniqueConstraintError(\u001B[38;5;124mf\u001B[39m\u001B[38;5;124m\"\u001B[39m\u001B[38;5;124mCollection \u001B[39m\u001B[38;5;132;01m{\u001B[39;00mname\u001B[38;5;132;01m}\u001B[39;00m\u001B[38;5;124m already exists\u001B[39m\u001B[38;5;124m\"\u001B[39m)\n\u001B[1;32m    227\u001B[0m topic \u001B[38;5;241m=\u001B[39m \u001B[38;5;28mself\u001B[39m\u001B[38;5;241m.\u001B[39m_assignment_policy\u001B[38;5;241m.\u001B[39massign_collection(\u001B[38;5;28mid\u001B[39m)\n\u001B[1;32m    228\u001B[0m collection \u001B[38;5;241m=\u001B[39m Collection(\n\u001B[1;32m    229\u001B[0m     \u001B[38;5;28mid\u001B[39m\u001B[38;5;241m=\u001B[39m\u001B[38;5;28mid\u001B[39m,\n\u001B[1;32m    230\u001B[0m     topic\u001B[38;5;241m=\u001B[39mtopic,\n\u001B[0;32m   (...)\u001B[0m\n\u001B[1;32m    235\u001B[0m     database\u001B[38;5;241m=\u001B[39mdatabase,\n\u001B[1;32m    236\u001B[0m )\n",
      "\u001B[0;31mUniqueConstraintError\u001B[0m: Collection wikipedia_content already exists"
     ]
    }
   ],
   "source": [
    "wikipedia_content_collection = chroma_client.create_collection(name='wikipedia_content', embedding_function=embedding_function)\n",
    "wikipedia_title_collection = chroma_client.create_collection(name='wikipedia_titles', embedding_function=embedding_function)\n",
    "\n",
    "\n",
    "# Add the content vectors\n",
    "wikipedia_content_collection.add(\n",
    "    ids=article_df.vector_id.tolist(),\n",
    "    embeddings=article_df.content_vector.tolist(),\n",
    ")\n",
    "\n",
    "# Add the title vectors\n",
    "wikipedia_title_collection.add(\n",
    "    ids=article_df.vector_id.tolist(),\n",
    "    embeddings=article_df.title_vector.tolist(),\n",
    ")\n",
    "\n",
    "\n",
    "\n",
    "# collection = RAGCollection(embedding_type=\"openAI\", name=\"RAG\")\n",
    "\n",
    "# collection.add(ids=article_df.vector_id.tolist(), embeddings=article_df.content_vector.tolist())\n",
    "#\n",
    "# results = collection.query_collection(query=\"modern art in Europe\", n_results=10)\n",
    "\n"
   ],
   "metadata": {
    "collapsed": false,
    "ExecuteTime": {
     "end_time": "2024-02-27T14:06:07.257927Z",
     "start_time": "2024-02-27T14:06:06.901010Z"
    }
   }
  },
  {
   "cell_type": "code",
   "execution_count": 9,
   "outputs": [],
   "source": [
    "results = wikipedia_content_collection.query(query_texts=\"modern art in Europe\", n_results=10, include=['distances'])\n"
   ],
   "metadata": {
    "collapsed": false,
    "ExecuteTime": {
     "end_time": "2024-02-27T14:07:24.134668Z",
     "start_time": "2024-02-27T14:07:23.513731Z"
    }
   }
  },
  {
   "cell_type": "code",
   "execution_count": 10,
   "outputs": [
    {
     "name": "stdout",
     "output_type": "stream",
     "text": [
      "{'ids': [['18310', '4777', '6510', '5082', '3536', '16255', '23717', '21824', '17583', '19867']], 'distances': [[1.92246675491333, 1.9277865886688232, 1.9294931888580322, 1.9332842826843262, 1.9341862201690674, 1.9388872385025024, 1.9419195652008057, 1.9431506395339966, 1.9459826946258545, 1.9493794441223145]], 'metadatas': None, 'embeddings': None, 'documents': None, 'uris': None, 'data': None}\n"
     ]
    }
   ],
   "source": [
    "print(results)"
   ],
   "metadata": {
    "collapsed": false,
    "ExecuteTime": {
     "end_time": "2024-02-27T14:07:53.792956Z",
     "start_time": "2024-02-27T14:07:53.788069Z"
    }
   }
  },
  {
   "cell_type": "code",
   "execution_count": 11,
   "outputs": [
    {
     "data": {
      "text/plain": "          id     score           title  \\\n3536   18310  1.922467   Lenny Kravitz   \n4777    4777  1.927787         Sublime   \n5082    6510  1.929493     Gene Pitney   \n6510    5082  1.933284     John Denver   \n16255   3536  1.934186    Georg Danzer   \n17583  16255  1.938887   Glen Campbell   \n18310  23717  1.941920  Darin (singer)   \n19867  21824  1.943151    Taylor Swift   \n21824  17583  1.945983       Jon Brion   \n23717  19867  1.949379      Jon Walker   \n\n                                                 content  \n3536   Leonard Albert \"Lenny\" Kravitz (born May 26, 1...  \n4777   Sublime was a popular punk/ska rock band. The ...  \n5082   Gene Francis Alan Pitney (17 February 1940 – 5...  \n6510   Henry John Deutschendorf Jr. (December 31, 194...  \n16255  Georg Franz Danzer (born October 7, 1946 in Vi...  \n17583  Glen Travis Campbell (April 22, 1936 – August ...  \n18310  Darin Zanyar (born June 2, 1987), known simply...  \n19867  Taylor Allison Swift (born December 13, 1989) ...  \n21824  Jon Brion (born December 11, 1963) is an Ameri...  \n23717  Jonathan Jacob Walker (born September 17, 1985...  ",
      "text/html": "<div>\n<style scoped>\n    .dataframe tbody tr th:only-of-type {\n        vertical-align: middle;\n    }\n\n    .dataframe tbody tr th {\n        vertical-align: top;\n    }\n\n    .dataframe thead th {\n        text-align: right;\n    }\n</style>\n<table border=\"1\" class=\"dataframe\">\n  <thead>\n    <tr style=\"text-align: right;\">\n      <th></th>\n      <th>id</th>\n      <th>score</th>\n      <th>title</th>\n      <th>content</th>\n    </tr>\n  </thead>\n  <tbody>\n    <tr>\n      <th>3536</th>\n      <td>18310</td>\n      <td>1.922467</td>\n      <td>Lenny Kravitz</td>\n      <td>Leonard Albert \"Lenny\" Kravitz (born May 26, 1...</td>\n    </tr>\n    <tr>\n      <th>4777</th>\n      <td>4777</td>\n      <td>1.927787</td>\n      <td>Sublime</td>\n      <td>Sublime was a popular punk/ska rock band. The ...</td>\n    </tr>\n    <tr>\n      <th>5082</th>\n      <td>6510</td>\n      <td>1.929493</td>\n      <td>Gene Pitney</td>\n      <td>Gene Francis Alan Pitney (17 February 1940 – 5...</td>\n    </tr>\n    <tr>\n      <th>6510</th>\n      <td>5082</td>\n      <td>1.933284</td>\n      <td>John Denver</td>\n      <td>Henry John Deutschendorf Jr. (December 31, 194...</td>\n    </tr>\n    <tr>\n      <th>16255</th>\n      <td>3536</td>\n      <td>1.934186</td>\n      <td>Georg Danzer</td>\n      <td>Georg Franz Danzer (born October 7, 1946 in Vi...</td>\n    </tr>\n    <tr>\n      <th>17583</th>\n      <td>16255</td>\n      <td>1.938887</td>\n      <td>Glen Campbell</td>\n      <td>Glen Travis Campbell (April 22, 1936 – August ...</td>\n    </tr>\n    <tr>\n      <th>18310</th>\n      <td>23717</td>\n      <td>1.941920</td>\n      <td>Darin (singer)</td>\n      <td>Darin Zanyar (born June 2, 1987), known simply...</td>\n    </tr>\n    <tr>\n      <th>19867</th>\n      <td>21824</td>\n      <td>1.943151</td>\n      <td>Taylor Swift</td>\n      <td>Taylor Allison Swift (born December 13, 1989) ...</td>\n    </tr>\n    <tr>\n      <th>21824</th>\n      <td>17583</td>\n      <td>1.945983</td>\n      <td>Jon Brion</td>\n      <td>Jon Brion (born December 11, 1963) is an Ameri...</td>\n    </tr>\n    <tr>\n      <th>23717</th>\n      <td>19867</td>\n      <td>1.949379</td>\n      <td>Jon Walker</td>\n      <td>Jonathan Jacob Walker (born September 17, 1985...</td>\n    </tr>\n  </tbody>\n</table>\n</div>"
     },
     "execution_count": 11,
     "metadata": {},
     "output_type": "execute_result"
    }
   ],
   "source": [
    "df = pd.DataFrame({\n",
    "    'id': results['ids'][0],\n",
    "    'score': results['distances'][0],\n",
    "    'title': article_df[article_df.vector_id.isin(results['ids'][0])]['title'],\n",
    "    'content': article_df[article_df.vector_id.isin(results['ids'][0])]['text'],\n",
    "})\n",
    "\n",
    "df"
   ],
   "metadata": {
    "collapsed": false,
    "ExecuteTime": {
     "end_time": "2024-02-27T14:20:48.673206Z",
     "start_time": "2024-02-27T14:20:48.367530Z"
    }
   }
  },
  {
   "cell_type": "code",
   "execution_count": null,
   "outputs": [],
   "source": [
    "c"
   ],
   "metadata": {
    "collapsed": false
   }
  }
 ]
}
